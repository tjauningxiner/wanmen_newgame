{
 "cells": [
  {
   "cell_type": "markdown",
   "metadata": {},
   "source": [
    "*第一种写法"
   ]
  },
  {
   "cell_type": "markdown",
   "metadata": {},
   "source": [
    "![wusuowei](http://www.pptok.com/wp-content/uploads/2012/08/xunguang-9.jpg)"
   ]
  },
  {
   "cell_type": "markdown",
   "metadata": {},
   "source": [
    "*第二种写法"
   ]
  },
  {
   "cell_type": "markdown",
   "metadata": {},
   "source": [
    "###"
   ]
  },
  {
   "cell_type": "markdown",
   "metadata": {},
   "source": [
    "1.辅导费\n",
    "2.\n",
    "2."
   ]
  },
  {
   "cell_type": "markdown",
   "metadata": {},
   "source": [
    "\\pi"
   ]
  },
  {
   "cell_type": "markdown",
   "metadata": {},
   "source": [
    "\\PI"
   ]
  },
  {
   "cell_type": "markdown",
   "metadata": {},
   "source": [
    "|第一栏|第二栏|第三栏|\n",
    "|------|:------|:-------|"
   ]
  },
  {
   "cell_type": "markdown",
   "metadata": {},
   "source": [
    "#\n",
    "##\n",
    "###\n",
    "####"
   ]
  },
  {
   "cell_type": "markdown",
   "metadata": {},
   "source": [
    "**黑体**\n",
    "*斜体*\n",
    "*应用\n",
    "* 列出\n",
    "* 不带序号\n",
    "        * **自观点**\n",
    "**黑体**\n",
    "1. 列出\n",
    "2.  黑体\n",
    "2."
   ]
  }
 ],
 "metadata": {
  "kernelspec": {
   "display_name": "Python 3",
   "language": "python",
   "name": "python3"
  },
  "language_info": {
   "codemirror_mode": {
    "name": "ipython",
    "version": 3
   },
   "file_extension": ".py",
   "mimetype": "text/x-python",
   "name": "python",
   "nbconvert_exporter": "python",
   "pygments_lexer": "ipython3",
   "version": "3.7.1"
  }
 },
 "nbformat": 4,
 "nbformat_minor": 2
}
